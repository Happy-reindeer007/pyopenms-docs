{
 "cells": [
  {
   "cell_type": "markdown",
   "metadata": {},
   "source": [
    "# Oligonucleotides: RNA\n",
    "\n",
    "## Nucleic Acid Sequences\n",
    "\n",
    "OpenMS also supports the representation of RNA oligonucleotides using\n",
    "the `NASequence` class:"
   ],
   "id": "fbaa40b8-e9cc-4665-8700-127e25df7136"
  },
  {
   "cell_type": "code",
   "execution_count": null,
   "metadata": {
    "linenos": ""
   },
   "outputs": [],
   "source": [
    "from pyopenms import *\n",
    "oligo = NASequence.fromString(\"AAUGCAAUGG\")\n",
    "prefix = oligo.getPrefix(4)\n",
    "suffix = oligo.getSuffix(4)\n",
    "\n",
    "print(oligo)\n",
    "print(prefix)\n",
    "print(suffix)\n",
    "print()\n",
    "\n",
    "print(\"Oligo length\", oligo.size())\n",
    "print(\"Total precursor mass\", oligo.getMonoWeight())\n",
    "print(\"y1+ ion mass of\", str(prefix), \":\", prefix.getMonoWeight(NASequence.NASFragmentType.YIon, 1))\n",
    "print()\n",
    "\n",
    "seq_formula = oligo.getFormula()\n",
    "print(\"RNA Oligo\", oligo, \"has molecular formula\", seq_formula)\n",
    "print(\"=\"*35)\n",
    "print()\n",
    "\n",
    "isotopes = seq_formula.getIsotopeDistribution( CoarseIsotopePatternGenerator(6) )\n",
    "for iso in isotopes.getContainer():\n",
    "  print (\"Isotope\", iso.getMZ(), \":\", iso.getIntensity())"
   ],
   "id": "b9c838a3-43be-441f-8ae0-b01769f9e3cc"
  },
  {
   "cell_type": "markdown",
   "metadata": {},
   "source": [
    "Which will output\n",
    "\n",
    "``` output\n",
    "AAUGCAAUGG\n",
    "AAUG\n",
    "AUGG\n",
    "\n",
    "Oligo length 10\n",
    "Total precursor mass 3206.4885302061\n",
    "y1+ ion mass of AAUG : 1248.2298440331\n",
    "\n",
    "RNA Oligo AAUGCAAUGG has molecular formula C97H119N42O66P9\n",
    "===================================\n",
    "\n",
    "Isotope 3206.4885302061 : 0.25567981600761414\n",
    "Isotope 3207.4918850439003 : 0.31783154606819153\n",
    "Isotope 3208.4952398817004 : 0.23069815337657928\n",
    "Isotope 3209.4985947195 : 0.12306403368711472\n",
    "Isotope 3210.5019495573 : 0.053163252770900726\n",
    "Isotope 3211.5053043951 : 0.01956319250166416\n",
    "```\n",
    "\n",
    "The `NASequence` object also allows iterations directly in Python:"
   ],
   "id": "4237398a-080c-4c9d-a305-0d4476c47561"
  },
  {
   "cell_type": "code",
   "execution_count": null,
   "metadata": {
    "linenos": ""
   },
   "outputs": [],
   "source": [
    "oligo = NASequence.fromString(\"AAUGCAAUGG\")\n",
    "print(\"The oligonucleotide\", str(oligo), \"consists of the following nucleotides:\")\n",
    "for ribo in oligo:\n",
    "  print(ribo.getName())"
   ],
   "id": "d0592e8d-0b61-4cec-8cf6-11603e8d7560"
  },
  {
   "cell_type": "markdown",
   "metadata": {},
   "source": [
    "### Fragment ions\n",
    "\n",
    "Similarly to before for amino acid sequences, we can also generate\n",
    "internal fragment ions:"
   ],
   "id": "846c61b3-62c5-4585-bb91-8f86b8fadc8a"
  },
  {
   "cell_type": "code",
   "execution_count": null,
   "metadata": {
    "linenos": ""
   },
   "outputs": [],
   "source": [
    "oligo = NASequence.fromString(\"AAUGCAAUGG\")\n",
    "suffix = oligo.getSuffix(4)\n",
    "\n",
    "oligo.size()\n",
    "oligo.getMonoWeight()\n",
    "\n",
    "charge = 2\n",
    "mass = suffix.getMonoWeight(NASequence.NASFragmentType.WIon, charge)\n",
    "w4_formula = suffix.getFormula(NASequence.NASFragmentType.WIon, charge)\n",
    "mz = mass / charge\n",
    "\n",
    "print(\"=\"*35)\n",
    "print(\"RNA Oligo w4++ ion\", suffix, \"has mz\", mz)\n",
    "print(\"RNA Oligo w4++ ion\", suffix, \"has molecular formula\", w4_formula)"
   ],
   "id": "211ca2a0-55d4-401e-a285-1df01e888c99"
  },
  {
   "cell_type": "markdown",
   "metadata": {},
   "source": [
    "## Modified oligonucleotides\n",
    "\n",
    "Modified nucleotides can also represented by the `Ribonucleotide` class\n",
    "and are specified using a unique string identifier present in the\n",
    "`RibonucleotideDB` in square brackets. For example, `[m1A]` represents\n",
    "1-methyladenosine. We can create a `NASequence` object by parsing a\n",
    "modified sequence as follows:"
   ],
   "id": "e117edec-871b-4b3a-867e-bb170a83ff0f"
  },
  {
   "cell_type": "code",
   "execution_count": null,
   "metadata": {
    "linenos": ""
   },
   "outputs": [],
   "source": [
    "oligo_mod = NASequence.fromString(\"A[m1A][Gm]A\")\n",
    "seq_formula = oligo_mod.getFormula()\n",
    "print(\"RNA Oligo\", oligo_mod, \"has molecular formula\", \n",
    "  seq_formula, \"and length\", oligo_mod.size())\n",
    "print(\"=\"*35)\n",
    "\n",
    "oligo_list = [oligo_mod[i].getOrigin() for i in range(oligo_mod.size())]\n",
    "print(\"RNA Oligo\", oligo_mod.toString(), \"has unmodified sequence\", \"\".join(oligo_list))\n",
    "\n",
    "r = oligo_mod[1]\n",
    "r.getName()\n",
    "r.getHTMLCode()\n",
    "r.getOrigin()\n",
    "\n",
    "for i in range(oligo_mod.size()):\n",
    "  print (oligo_mod[i].isModified())"
   ],
   "id": "be81a171-2b69-4473-977b-1755cf1dfb45"
  },
  {
   "cell_type": "markdown",
   "metadata": {},
   "source": [
    "## DNA, RNA and Protein\n",
    "\n",
    "We can also work with DNA and RNA sequences in combination with the\n",
    "BioPython library (you can install BioPython with\n",
    "`pip install biopython`):\n",
    "\n",
    "``` pseudocode\n",
    "from Bio.Seq import Seq\n",
    "from Bio.Alphabet import IUPAC\n",
    "bsa = FASTAEntry()\n",
    "bsa.sequence = 'ATGAAGTGGGTGACTTTTATTTCTCTTCTCCTTCTCTTCAGCTCTGCTTATTCCAGGGGTGTGTTTCGT'\n",
    "bsa.description = \"BSA Bovine Albumin (partial sequence)\"\n",
    "bsa.identifier = \"BSA\"\n",
    "\n",
    "entries = [bsa]\n",
    "\n",
    "f = FASTAFile()\n",
    "f.store(\"example_dna.fasta\", entries)\n",
    "\n",
    "coding_dna = Seq(bsa.sequence, IUPAC.unambiguous_dna)    \n",
    "coding_rna = coding_dna.transcribe()\n",
    "protein_seq = coding_rna.translate()\n",
    "\n",
    "oligo = NASequence.fromString(str(coding_rna))\n",
    "aaseq = AASequence.fromString(str(protein_seq))\n",
    "\n",
    "print(\"The RNA sequence\", str(oligo), \"has mass\", oligo.getMonoWeight(), \"and \\n\"\n",
    "  \"translates to the protein sequence\", str(aaseq), \"which has mass\", aaseq.getMonoWeight() )\n",
    "```"
   ],
   "id": "7be9cd30-991d-4ae2-9dbd-6bfa0d133369"
  }
 ],
 "nbformat": 4,
 "nbformat_minor": 5,
 "metadata": {}
}
