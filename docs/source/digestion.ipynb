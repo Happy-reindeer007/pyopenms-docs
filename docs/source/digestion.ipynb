{
 "cells": [
  {
   "cell_type": "markdown",
   "metadata": {},
   "source": [
    "# Digestion\n",
    "\n",
    "## Proteolytic Digestion with Trypsin\n",
    "\n",
    "OpenMS has classes for proteolytic digestion which can be used as\n",
    "follows:"
   ],
   "id": "466a57ab-2468-4574-b7df-ea746fa9359f"
  },
  {
   "cell_type": "code",
   "execution_count": null,
   "metadata": {},
   "outputs": [],
   "source": [
    "from pyopenms import *\n",
    "from urllib.request import urlretrieve\n",
    "gh = \"https://raw.githubusercontent.com/OpenMS/pyopenms-docs/master\"\n",
    "urlretrieve (gh + \"/src/data/P02769.fasta\", \"bsa.fasta\")\n",
    "\n",
    "dig = ProteaseDigestion()\n",
    "dig.getEnzymeName() # Trypsin\n",
    "bsa = \"\".join([l.strip() for l in open(\"bsa.fasta\").readlines()[1:]])\n",
    "bsa = AASequence.fromString(bsa)\n",
    "# create all digestion products\n",
    "result = []\n",
    "dig.digest(bsa, result)\n",
    "print(result[4].toString())\n",
    "len(result) # 82 peptides"
   ],
   "id": "0d0a4a2b-e3a7-4662-a137-e489ce1553db"
  },
  {
   "cell_type": "markdown",
   "metadata": {},
   "source": [
    "Very short peptides or even single amino acid digestion products are\n",
    "often discarded as they usually contain little information (e.g., can't\n",
    "be used to identify proteins). We now only generate digestion products\n",
    "with a length of 7 to 40."
   ],
   "id": "1268d696-34a1-42ad-983c-218c25642999"
  },
  {
   "cell_type": "code",
   "execution_count": null,
   "metadata": {},
   "outputs": [],
   "source": [
    "# only create peptides of length 7-40\n",
    "dig.digest(bsa, result, 7, 40)\n",
    "# print the results\n",
    "for s in result:\n",
    "    print(s.toString())    "
   ],
   "id": "1dffb9b0-7431-4229-b435-d4102334191e"
  },
  {
   "cell_type": "markdown",
   "metadata": {},
   "source": [
    "Enzymatic digestion is often not perfect and sometimes enzymes miss\n",
    "cutting a peptide. We now allow up to two missed cleavages."
   ],
   "id": "90bd3ae1-f0b1-4723-811d-8461f01f2b42"
  },
  {
   "cell_type": "code",
   "execution_count": null,
   "metadata": {},
   "outputs": [],
   "source": [
    "# Allow two missed cleavages\n",
    "dig.setMissedCleavages(2)\n",
    "# only create peptides of length 7-40\n",
    "dig.digest(bsa, result, 7, 40)\n",
    "# print the results\n",
    "for s in result:\n",
    "    print(s.toString())"
   ],
   "id": "ea8ee479-05dc-4ce0-b392-5bdc01588e1d"
  },
  {
   "cell_type": "markdown",
   "metadata": {},
   "source": [
    "## Proteolytic Digestion with Lys-C\n",
    "\n",
    "We can of course also use different enzymes, these are defined in the\n",
    "`Enzymes.xml` file and can be accessed using the `EnzymesDB` object"
   ],
   "id": "0f751042-0bdd-4d1e-a004-acdd3872d1aa"
  },
  {
   "cell_type": "code",
   "execution_count": null,
   "metadata": {},
   "outputs": [],
   "source": [
    "names = []\n",
    "ProteaseDB().getAllNames(names)\n",
    "len(names) # at least 25 by default\n",
    "e = ProteaseDB().getEnzyme('Lys-C')\n",
    "e.getRegExDescription()\n",
    "e.getRegEx()"
   ],
   "id": "716ddedc-3275-45a4-9375-36ad372b8701"
  },
  {
   "cell_type": "markdown",
   "metadata": {},
   "source": [
    "Now that we have learned about the other enzymes available, we can use\n",
    "it to cut our protein of interest:"
   ],
   "id": "f6e48353-928f-4488-b406-f69227272e87"
  },
  {
   "cell_type": "code",
   "execution_count": null,
   "metadata": {},
   "outputs": [],
   "source": [
    "from urllib.request import urlretrieve\n",
    "gh = \"https://raw.githubusercontent.com/OpenMS/pyopenms-docs/master\"\n",
    "urlretrieve (gh + \"/src/data/P02769.fasta\", \"bsa.fasta\")\n",
    "\n",
    "dig = ProteaseDigestion()\n",
    "dig.setEnzyme('Lys-C')\n",
    "bsa = \"\".join([l.strip() for l in open(\"bsa.fasta\").readlines()[1:]])\n",
    "bsa = AASequence.fromString(bsa)\n",
    "result = []\n",
    "dig.digest(bsa, result)\n",
    "print(result[4].toString())\n",
    "len(result) # 57 peptides"
   ],
   "id": "6bd4e7e5-334d-4759-a6dc-f0cf9dd59370"
  },
  {
   "cell_type": "markdown",
   "metadata": {},
   "source": [
    "We now get different digested peptides (57 vs 82) and the fourth peptide\n",
    "is now `GLVLIAFSQYLQQCPFDEHVK` instead of `DTHK` as with Trypsin (see\n",
    "above).\n",
    "\n",
    "## Oligonucleotide Digestion\n",
    "\n",
    "There are multiple cleavage enzymes available for oligonucleotides,\n",
    "these are defined `Enzymes_RNA.xml` file and can be accessed using the\n",
    "`RNaseDB` object"
   ],
   "id": "8f7e3c21-b170-4701-820e-6d55c5f65387"
  },
  {
   "cell_type": "code",
   "execution_count": null,
   "metadata": {},
   "outputs": [],
   "source": [
    "db = RNaseDB()\n",
    "names = []\n",
    "db.getAllNames(names)\n",
    "names\n",
    "# Will print out all available enzymes:\n",
    "# ['RNase_U2', 'RNase_T1', 'RNase_H', 'unspecific cleavage', 'no cleavage', 'RNase_MC1', 'RNase_A', 'cusativin']\n",
    "e = db.getEnzyme(\"RNase_T1\")\n",
    "e.getRegEx()\n",
    "e.getThreePrimeGain() "
   ],
   "id": "a2dd094f-eab7-43e5-8ad5-0c3b0b35a5e5"
  },
  {
   "cell_type": "markdown",
   "metadata": {},
   "source": [
    "We can now use it to cut an oligo:"
   ],
   "id": "bf11d2a2-5e9a-41a8-a25f-2b6921c93036"
  },
  {
   "cell_type": "code",
   "execution_count": null,
   "metadata": {},
   "outputs": [],
   "source": [
    "oligo = NASequence.fromString(\"pAUGUCGCAG\");\n",
    "\n",
    "dig = RNaseDigestion()\n",
    "dig.setEnzyme(\"RNase_T1\")\n",
    "\n",
    "result = []\n",
    "dig.digest(oligo, result)\n",
    "for fragment in result:\n",
    "  print (fragment)\n",
    "\n",
    "print(\"Looking closer at\", result[0])\n",
    "print(\" Five Prime modification:\", result[0].getFivePrimeMod().getCode())\n",
    "print(\" Three Prime modification:\", result[0].getThreePrimeMod().getCode())\n",
    "for ribo in result[0]:\n",
    "  print (ribo.getCode(), ribo.getMonoMass(), ribo.isModified())"
   ],
   "id": "39700ae1-84e9-4065-9eab-fc39f4698814"
  }
 ],
 "nbformat": 4,
 "nbformat_minor": 5,
 "metadata": {}
}
