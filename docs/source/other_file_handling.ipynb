{
 "cells": [
  {
   "cell_type": "markdown",
   "metadata": {},
   "source": [
    "# Other MS data formats\n",
    "\n",
    "## Identification data (idXML, mzIdentML, pepXML, protXML)\n",
    "\n",
    "You can store and load identification data from an <span\n",
    "class=\"title-ref\">idXML</span> file as follows:"
   ],
   "id": "831811b0-a924-4174-870b-e45a5751907b"
  },
  {
   "cell_type": "code",
   "execution_count": null,
   "metadata": {},
   "outputs": [],
   "source": [
    "from urllib.request import urlretrieve\n",
    "from pyopenms import *\n",
    "gh = gh = \"https://raw.githubusercontent.com/OpenMS/pyopenms-docs/master\"\n",
    "urlretrieve (gh + \"/src/data/IdXMLFile_whole.idXML\", \"test.idXML\")\n",
    "protein_ids = []\n",
    "peptide_ids = []\n",
    "IdXMLFile().load(\"test.idXML\", protein_ids, peptide_ids)\n",
    "IdXMLFile().store(\"test.out.idXML\", protein_ids, peptide_ids)"
   ],
   "id": "ef6ff434-3a58-4a1f-9441-41ca3562fba0"
  },
  {
   "cell_type": "markdown",
   "metadata": {},
   "source": [
    "You can store and load identification data from an <span\n",
    "class=\"title-ref\">mzIdentML</span> file as follows:"
   ],
   "id": "68fb4899-4224-4245-bdd7-27d828e642fd"
  },
  {
   "cell_type": "code",
   "execution_count": null,
   "metadata": {},
   "outputs": [],
   "source": [
    "from urllib.request import urlretrieve\n",
    "gh = gh = \"https://raw.githubusercontent.com/OpenMS/pyopenms-docs/master\"\n",
    "urlretrieve (gh + \"/src/data/MzIdentML_3runs.mzid\", \"test.mzid\")\n",
    "protein_ids = []\n",
    "peptide_ids = []\n",
    "MzIdentMLFile().load(\"test.mzid\", protein_ids, peptide_ids)\n",
    "MzIdentMLFile().store(\"test.out.mzid\", protein_ids, peptide_ids)"
   ],
   "id": "6d6835e9-29bc-4b6d-8ba1-09f5dc65bfcf"
  },
  {
   "cell_type": "markdown",
   "metadata": {},
   "source": [
    "You can store and load identification data from a TPP <span\n",
    "class=\"title-ref\">pepXML</span> file as follows:"
   ],
   "id": "3c575fee-8060-40ab-b05c-5901a0193f16"
  },
  {
   "cell_type": "code",
   "execution_count": null,
   "metadata": {},
   "outputs": [],
   "source": [
    "from urllib.request import urlretrieve\n",
    "gh = gh = \"https://raw.githubusercontent.com/OpenMS/pyopenms-docs/master\"\n",
    "urlretrieve (gh + \"/src/data/PepXMLFile_test.pepxml\", \"test.pepxml\")\n",
    "protein_ids = []\n",
    "peptide_ids = []\n",
    "PepXMLFile().load(\"test.pepxml\", protein_ids, peptide_ids)\n",
    "PepXMLFile().store(\"test.out.pepxml\", protein_ids, peptide_ids)"
   ],
   "id": "da888ff0-14c8-475e-a26d-f6311dbc3934"
  },
  {
   "cell_type": "markdown",
   "metadata": {},
   "source": [
    "You can load (storing is not supported) identification data from a TPP\n",
    "<span class=\"title-ref\">protXML</span> file as follows:"
   ],
   "id": "32bd552b-e4aa-4622-b178-31863e203a57"
  },
  {
   "cell_type": "code",
   "execution_count": null,
   "metadata": {},
   "outputs": [],
   "source": [
    "from urllib.request import urlretrieve\n",
    "gh = gh = \"https://raw.githubusercontent.com/OpenMS/pyopenms-docs/master\"\n",
    "urlretrieve (gh + \"/src/data/ProtXMLFile_input_1.protXML\", \"test.protXML\")\n",
    "protein_ids = ProteinIdentification()\n",
    "peptide_ids = PeptideIdentification()\n",
    "ProtXMLFile().load(\"test.protXML\", protein_ids, peptide_ids)\n",
    "# storing protein XML file is not yet supported"
   ],
   "id": "6e704bdf-698a-4cb6-bded-d8326c4d8aa7"
  },
  {
   "cell_type": "markdown",
   "metadata": {},
   "source": [
    "note how each data file produces two vectors of type\n",
    "`ProteinIdentification` and `PeptideIdentification` which also means\n",
    "that conversion between two data types is trivial: load data from one\n",
    "data file and use the storage function of the other file.\n",
    "\n",
    "## Quantiative data (featureXML, consensusXML)\n",
    "\n",
    "OpenMS stores quantitative information in the internal `featureXML` and\n",
    "`consensusXML` data formats. The `featureXML` format is used to store\n",
    "quantitative data from a single LC-MS/MS run while the `consensusXML` is\n",
    "used to store quantitative data from multiple LC-MS/MS runs. These can\n",
    "be accessed as follows:"
   ],
   "id": "c14bb733-b462-4acf-a48b-052b98ed8862"
  },
  {
   "cell_type": "code",
   "execution_count": null,
   "metadata": {},
   "outputs": [],
   "source": [
    "from urllib.request import urlretrieve\n",
    "gh = gh = \"https://raw.githubusercontent.com/OpenMS/pyopenms-docs/master\"\n",
    "urlretrieve (gh + \"/src/data/FeatureFinderCentroided_1_output.featureXML\", \"test.featureXML\")\n",
    "features = FeatureMap()\n",
    "FeatureXMLFile().load(\"test.featureXML\", features)\n",
    "FeatureXMLFile().store(\"test.out.featureXML\", features)"
   ],
   "id": "5ec3d5c4-ceee-4144-832a-67804a3ada3e"
  },
  {
   "cell_type": "markdown",
   "metadata": {},
   "source": [
    "and for `consensusXML`"
   ],
   "id": "e7ca9691-414f-4f48-b98a-f298be22e61a"
  },
  {
   "cell_type": "code",
   "execution_count": null,
   "metadata": {},
   "outputs": [],
   "source": [
    "from urllib.request import urlretrieve\n",
    "gh = gh = \"https://raw.githubusercontent.com/OpenMS/pyopenms-docs/master\"\n",
    "urlretrieve (gh + \"/src/data/ConsensusXMLFile_1.consensusXML\", \"test.consensusXML\")\n",
    "consensus_features = ConsensusMap()\n",
    "ConsensusXMLFile().load(\"test.consensusXML\", consensus_features)\n",
    "ConsensusXMLFile().store(\"test.out.consensusXML\", consensus_features)"
   ],
   "id": "3ff2d105-a6ef-4d66-a985-98d1ccbcb543"
  },
  {
   "cell_type": "markdown",
   "metadata": {},
   "source": [
    "## Transition data (TraML)\n",
    "\n",
    "The TraML data format allows you to store transition information for\n",
    "targeted experiments (SRM / MRM / PRM / DIA)."
   ],
   "id": "c4789b67-ff47-485d-97b1-a916d4f7deaf"
  },
  {
   "cell_type": "code",
   "execution_count": null,
   "metadata": {},
   "outputs": [],
   "source": [
    "from urllib.request import urlretrieve\n",
    "gh = \"https://raw.githubusercontent.com/OpenMS/pyopenms-extra/master\"\n",
    "urlretrieve (gh + \"/src/data/ConvertTSVToTraML_output.TraML\", \"test.TraML\")\n",
    "targeted_exp = TargetedExperiment()\n",
    "TraMLFile().load(\"test.TraML\", targeted_exp)\n",
    "TraMLFile().store(\"test.out.TraML\", targeted_exp)"
   ],
   "id": "35462f39-4de8-421b-9c5d-2eccc4788b59"
  }
 ],
 "nbformat": 4,
 "nbformat_minor": 5,
 "metadata": {}
}
