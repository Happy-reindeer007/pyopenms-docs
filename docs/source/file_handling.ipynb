{
 "cells": [
  {
   "cell_type": "markdown",
   "metadata": {},
   "source": [
    "# Reading Raw MS data\n",
    "\n",
    "## mzML files in memory\n",
    "\n",
    "As discussed in the last section, the most straight forward way to load\n",
    "mass spectrometric data is using the `MzMLFile` class:"
   ],
   "id": "fd245a14-dd76-4789-93c8-06e2a523a940"
  },
  {
   "cell_type": "code",
   "execution_count": null,
   "metadata": {},
   "outputs": [],
   "source": [
    "from pyopenms import *\n",
    "from urllib.request import urlretrieve\n",
    "gh = \"https://raw.githubusercontent.com/OpenMS/pyopenms-docs/master\"\n",
    "urlretrieve (gh + \"/src/data/tiny.mzML\", \"test.mzML\")\n",
    "exp = MSExperiment()\n",
    "MzMLFile().load(\"test.mzML\", exp)"
   ],
   "id": "4916dd86-af90-4ad4-8a22-b4f6afe1b721"
  },
  {
   "cell_type": "markdown",
   "metadata": {},
   "source": [
    "which will load the content of the \"test.mzML\" file into the `exp`\n",
    "variable of type `MSExperiment`. We can access the raw data and spectra\n",
    "through:"
   ],
   "id": "545576a3-d2cb-497d-a9d8-262fd557a142"
  },
  {
   "cell_type": "code",
   "execution_count": null,
   "metadata": {},
   "outputs": [],
   "source": [
    "spectrum_data = exp.getSpectrum(0).get_peaks()\n",
    "chromatogram_data = exp.getChromatogram(0).get_peaks()"
   ],
   "id": "47856949-8efd-4a69-8460-f16cd73e01fc"
  },
  {
   "cell_type": "markdown",
   "metadata": {},
   "source": [
    "Which will allow us to compute on spectra and chromatogram data. We can\n",
    "manipulate the spectra in the file for example as follows:"
   ],
   "id": "6c35f2c1-6c39-41ff-b3a8-2530c11f01b8"
  },
  {
   "cell_type": "code",
   "execution_count": null,
   "metadata": {},
   "outputs": [],
   "source": [
    "spec = []\n",
    "for s in exp.getSpectra():\n",
    "    if s.getMSLevel() != 1:\n",
    "        spec.append(s)\n",
    "\n",
    "exp.setSpectra(spec)"
   ],
   "id": "338b26c2-a9a9-48d7-8d05-a3aa57eb6dd7"
  },
  {
   "cell_type": "markdown",
   "metadata": {},
   "source": [
    "Which will only keep MS2 spectra in the `MSExperiment`. We can then\n",
    "store the modified data structure on disk:"
   ],
   "id": "0ee1787f-3063-498f-8ee9-a41c2a9a0eaf"
  },
  {
   "cell_type": "code",
   "execution_count": null,
   "metadata": {},
   "outputs": [],
   "source": [
    "MzMLFile().store(\"filtered.mzML\", exp)"
   ],
   "id": "7559c485-c968-4b6c-a1c5-e456537f969f"
  },
  {
   "cell_type": "markdown",
   "metadata": {},
   "source": [
    "Putting this together, a small filtering program would look like this:"
   ],
   "id": "7fca16e2-0d69-4d27-8070-f69f6a1d9a6a"
  },
  {
   "cell_type": "code",
   "execution_count": null,
   "metadata": {},
   "outputs": [],
   "source": [
    "\"\"\"\n",
    "Script to read mzML data and filter out all MS1 spectra\n",
    "\"\"\"\n",
    "exp = MSExperiment()\n",
    "MzMLFile().load(\"test.mzML\", exp)\n",
    "\n",
    "spec = []\n",
    "for s in exp.getSpectra():\n",
    "    if s.getMSLevel() != 1:\n",
    "        spec.append(s)\n",
    "\n",
    "exp.setSpectra(spec)\n",
    "\n",
    "MzMLFile().store(\"filtered.mzML\", exp)"
   ],
   "id": "87322768-78ff-4f05-bd22-132a38a20493"
  },
  {
   "cell_type": "markdown",
   "metadata": {},
   "source": [
    "## indexed mzML files\n",
    "\n",
    "Since pyOpenMS 2.4, you can open, read and inspect files that use the\n",
    "indexedMzML standard. This allows users to read MS data without loading\n",
    "all data into memory:"
   ],
   "id": "1e7cb15a-603d-495f-910a-705583114206"
  },
  {
   "cell_type": "code",
   "execution_count": null,
   "metadata": {},
   "outputs": [],
   "source": [
    "od_exp = OnDiscMSExperiment()\n",
    "od_exp.openFile(\"test.mzML\")\n",
    "meta_data = od_exp.getMetaData()\n",
    "meta_data.getNrChromatograms()\n",
    "od_exp.getNrChromatograms()\n",
    "\n",
    "# data is not present in meta_data experiment\n",
    "sum(meta_data.getChromatogram(0).get_peaks()[1]) # no data!\n",
    "sum(od_exp.getChromatogram(0).get_peaks()[1]) # data is here!\n",
    "\n",
    "# meta data is present and identical in both data structures:\n",
    "meta_data.getChromatogram(0).getNativeID() # fast\n",
    "od_exp.getChromatogram(0).getNativeID() # slow"
   ],
   "id": "3bc10ff9-eb37-48b5-8fb1-37fb79690a61"
  },
  {
   "cell_type": "markdown",
   "metadata": {},
   "source": [
    "Note that the `OnDiscMSExperiment` allows users to access meta data\n",
    "through the `getMetaData` function, which allows easy selection and\n",
    "filtering on meta data attributes (such as MS level, precursor *m/z*,\n",
    "retention time etc.) in order to select spectra and chromatograms for\n",
    "analysis. Only once selection on the meta data has been performed, will\n",
    "actual data be loaded into memory using the `getChromatogram` and\n",
    "`getSpectrum` functions.\n",
    "\n",
    "This approach is memory efficient in cases where computation should only\n",
    "occur on part of the data or the whole data may not fit into memory.\n",
    "\n",
    "## mzML files as streams\n",
    "\n",
    "In some instances it is impossible or inconvenient to load all data from\n",
    "an mzML file directly into memory. OpenMS offers streaming-based access\n",
    "to mass spectrometric data which uses a callback object that receives\n",
    "spectra and chromatograms as they are read from the disk. A simple\n",
    "implementation could look like"
   ],
   "id": "f4036608-bc90-4e63-888a-4c1e2fbc1943"
  },
  {
   "cell_type": "code",
   "execution_count": null,
   "metadata": {},
   "outputs": [],
   "source": [
    "class MSCallback():\n",
    "    def setExperimentalSettings(self, s):\n",
    "        pass\n",
    "\n",
    "    def setExpectedSize(self, a, b):\n",
    "        pass\n",
    "\n",
    "    def consumeChromatogram(self, c):\n",
    "        print (\"Read a chromatogram\")\n",
    "\n",
    "    def consumeSpectrum(self, s):\n",
    "        print (\"Read a spectrum\")"
   ],
   "id": "f4f04dc8-e610-415e-82b7-7c0f4a5c0abd"
  },
  {
   "cell_type": "markdown",
   "metadata": {},
   "source": [
    "which can the be used as follows:\n",
    "\n",
    "``` output\n",
    "filename = b\"test.mzML\"\n",
    "consumer = MSCallback()\n",
    "MzMLFile().transform(filename, consumer)\n",
    "Read a spectrum\n",
    "Read a spectrum\n",
    "Read a spectrum\n",
    "Read a spectrum\n",
    "Read a chromatogram\n",
    "Read a chromatogram\n",
    "```\n",
    "\n",
    "which provides an intuition on how the callback object works: whenever a\n",
    "spectrum or chromatogram is read from disk, the function\n",
    "`consumeSpectrum` or `consumeChromatogram` is called and a specific\n",
    "action is performed. We can use this to implement a simple filtering\n",
    "function for mass spectra:\n",
    "\n",
    "``` output\n",
    "class FilteringConsumer():\n",
    "    \"\"\"\n",
    "    Consumer that forwards all calls the internal consumer (after\n",
    "    filtering)\n",
    "    \"\"\"\n",
    "\n",
    "    def __init__(self, consumer, filter_string):\n",
    "        self._internal_consumer = consumer\n",
    "        self.filter_string = filter_string\n",
    "\n",
    "    def setExperimentalSettings(self, s):\n",
    "        self._internal_consumer.setExperimentalSettings(s)\n",
    "\n",
    "    def setExpectedSize(self, a, b):\n",
    "        self._internal_consumer.setExpectedSize(a, b)\n",
    "\n",
    "    def consumeChromatogram(self, c):\n",
    "        if c.getNativeID().find(self.filter_string) != -1:\n",
    "            self._internal_consumer.consumeChromatogram(c)\n",
    "\n",
    "    def consumeSpectrum(self, s):\n",
    "        if s.getNativeID().find(self.filter_string) != -1:\n",
    "            self._internal_consumer.consumeSpectrum(s)\n",
    "\n",
    "###################################\n",
    "filter_string = \"DECOY\"\n",
    "inputfile = \"in.mzML\"\n",
    "outputfile = \"out.mzML\"\n",
    "###################################\n",
    "\n",
    "consumer = PlainMSDataWritingConsumer(outputfile)\n",
    "consumer = FilteringConsumer(consumer, filter_string)\n",
    "\n",
    "MzMLFile().transform(inputfile, consumer)\n",
    "```\n",
    "\n",
    "where the spectra and chromatograms are filtered by their native ids. It\n",
    "is similarly trivial to implement filtering by other attributes. Note\n",
    "how the data are written to disk using the `PlainMSDataWritingConsumer`\n",
    "which is one of multiple available consumer classes -- this specific\n",
    "class will simply take the spectrum `s` or chromatogram `c` and write it\n",
    "to disk (the location of the output file is given by the `outfile`\n",
    "variable).\n",
    "\n",
    "Note that this approach is memory efficient in cases where computation\n",
    "should only occur on part of the data or the whole data may not fit into\n",
    "memory.\n",
    "\n",
    "## cached mzML files\n",
    "\n",
    "In addition, since pyOpenMS 2.4 the user can efficiently cache mzML\n",
    "files to disk which provides very fast access with minimal overhead in\n",
    "memory. Basically the data directly mapped into memory when requested.\n",
    "You can use this feature as follows:"
   ],
   "id": "7eb2b796-84d1-40b5-95af-f52ad355ef09"
  },
  {
   "cell_type": "code",
   "execution_count": null,
   "metadata": {},
   "outputs": [],
   "source": [
    "# First load data and cache to disk\n",
    "exp = MSExperiment()\n",
    "MzMLFile().load(\"test.mzML\", exp)\n",
    "CachedmzML.store(\"myCache.mzML\", exp)\n",
    "\n",
    "# Now load data\n",
    "cfile = CachedmzML()\n",
    "CachedmzML.load(\"myCache.mzML\", cfile)\n",
    "\n",
    "meta_data = cfile.getMetaData()\n",
    "cfile.getNrChromatograms()\n",
    "cfile.getNrSpectra()\n",
    "\n",
    "# data is not present in meta_data experiment\n",
    "sum(meta_data.getChromatogram(0).get_peaks()[1]) # no data!\n",
    "sum(cfile.getChromatogram(0).get_peaks()[1]) # data is here!\n",
    "\n",
    "# meta data is present and identical in both data structures:\n",
    "meta_data.getChromatogram(0).getNativeID() # fast\n",
    "cfile.getChromatogram(0).getNativeID() # slow"
   ],
   "id": "2cd7fc41-4783-4f13-9282-80771e37a695"
  },
  {
   "cell_type": "markdown",
   "metadata": {},
   "source": [
    "Note that the `CachedmzML` allows users to access meta data through the\n",
    "`getMetaData` function, which allows easy selection and filtering on\n",
    "meta data attributes (such as MS level, precursor *m/z*, retention time\n",
    "etc.) in order to select spectra and chromatograms for analysis. Only\n",
    "once selection on the meta data has been performed, will actual data be\n",
    "loaded into memory using the `getChromatogram` and `getSpectrum`\n",
    "functions.\n",
    "\n",
    "Note that in the example above all data is loaded into memory first and\n",
    "then cached to disk. This is not very efficient and we can use the\n",
    "`MSDataCachedConsumer` to directly cache to disk (without loading any\n",
    "data into memory):"
   ],
   "id": "88c5879f-bc17-44ee-b694-a24c12653b14"
  },
  {
   "cell_type": "code",
   "execution_count": null,
   "metadata": {},
   "outputs": [],
   "source": [
    "# First cache to disk\n",
    "# Note: writing meta data to myCache2.mzML is required\n",
    "cacher = MSDataCachedConsumer(\"myCache2.mzML.cached\")\n",
    "exp = MSExperiment()\n",
    "MzMLFile().transform(b\"test.mzML\", cacher, exp)\n",
    "CachedMzMLHandler().writeMetadata(exp, \"myCache2.mzML\")\n",
    "del cacher\n",
    "\n",
    "# Now load data\n",
    "cfile = CachedmzML()\n",
    "CachedmzML.load(\"myCache2.mzML\", cfile)\n",
    "\n",
    "meta_data = cfile.getMetaData()\n",
    "# data is not present in meta_data experiment\n",
    "sum(meta_data.getChromatogram(0).get_peaks()[1]) # no data!\n",
    "sum(cfile.getChromatogram(0).get_peaks()[1]) # data is here!"
   ],
   "id": "db6da690-8a4f-4fe6-a46a-9674c644abb8"
  },
  {
   "cell_type": "markdown",
   "metadata": {},
   "source": [
    "This approach is now memory efficient in cases where computation should\n",
    "only occur on part of the data or the whole data may not fit into\n",
    "memory."
   ],
   "id": "3cb9de34-2dcd-4d20-b00c-7f7f3489af00"
  }
 ],
 "nbformat": 4,
 "nbformat_minor": 5,
 "metadata": {}
}
