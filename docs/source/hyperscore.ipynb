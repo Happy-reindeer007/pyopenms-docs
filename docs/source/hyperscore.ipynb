{
 "cells": [
  {
   "cell_type": "markdown",
   "metadata": {},
   "source": [
    "# Scoring spectra with HyperScore\n",
    "\n",
    "In the chapter on spectrum alignment we showed how to determine matching\n",
    "peaks between theoretical and experimental spectra. For many use cases\n",
    "we might actually not be interested in obtaining the list of matched\n",
    "peaks but would like to have a simple, single score that indicates how\n",
    "\"well\" the two spectra matched. The HyperScore is a method to assign a\n",
    "spectrum match score to spectrum matches.\n",
    "\n",
    "## Background\n",
    "\n",
    "HyperScore computes the (ln transformed) HyperScore of theoretical\n",
    "spectrum, calculated from a peptide/oligonucleotide sequence, with an\n",
    "experimental spectrum, loaded from an mzML file.\n",
    "\n",
    "> 1.  the dot product of peak intensities between matching peaks in\n",
    ">     experimental and theoretical spectrum is calculated\n",
    "> 2.  the HyperScore is calculated from the dot product by multiplying\n",
    ">     by factorials of matching b- and y-ions"
   ],
   "id": "c3435fe3-8ad2-4f30-a6db-d0a54d5a1f78"
  },
  {
   "cell_type": "code",
   "execution_count": null,
   "metadata": {},
   "outputs": [],
   "source": [
    "from urllib.request import urlretrieve\n",
    "from pyopenms import *\n",
    "gh = \"https://raw.githubusercontent.com/OpenMS/pyopenms-docs/master\"\n",
    "urlretrieve (gh + \"/src/data/SimpleSearchEngine_1.mzML\", \"searchfile.mzML\")"
   ],
   "id": "b1b075e3-d364-4bdc-9e47-0f2143cdae8d"
  },
  {
   "cell_type": "markdown",
   "metadata": {},
   "source": [
    "## Generate a theoretical spectrum\n",
    "\n",
    "We now use the TheoreticalSpectrumGenerator to generate a theoretical\n",
    "spectrum for the sequence we are interested in,\n",
    "`RPGADSDIGGFGGLFDLAQAGFR`, and compare the peaks to a spectra from our\n",
    "file."
   ],
   "id": "74ed1dbf-fe10-4ab9-b057-dd5183c07e22"
  },
  {
   "cell_type": "code",
   "execution_count": null,
   "metadata": {},
   "outputs": [],
   "source": [
    "tsg = TheoreticalSpectrumGenerator()\n",
    "thspec = MSSpectrum()\n",
    "p = Param()\n",
    "p.setValue(\"add_metainfo\", \"true\")\n",
    "tsg.setParameters(p)\n",
    "peptide = AASequence.fromString(\"RPGADSDIGGFGGLFDLAQAGFR\")\n",
    "tsg.getSpectrum(thspec, peptide, 1, 1)\n",
    "# Iterate over annotated ions and their masses\n",
    "for ion, peak in zip(thspec.getStringDataArrays()[0], thspec):\n",
    "    print(ion, peak.getMZ())\n",
    "\n",
    "e = MSExperiment()\n",
    "MzMLFile().load(\"searchfile.mzML\", e)\n",
    "spectrum_of_interest = e[2]\n",
    "print (\"Spectrum native id\", spectrum_of_interest.getNativeID() )\n",
    "mz,i = spectrum_of_interest.get_peaks()\n",
    "peaks = [(mz,i) for mz,i in zip(mz,i) if i > 1500 and mz > 300]\n",
    "for peak in peaks:\n",
    "  print (peak[0], \"mz\", peak[1], \"int\")"
   ],
   "id": "74ac79fe-e814-4e78-a7fe-73d41bb8db24"
  },
  {
   "cell_type": "markdown",
   "metadata": {},
   "source": [
    "Comparing the theoretical spectrum and the experimental spectrum for\n",
    "`RPGADSDIGGFGGLFDLAQAGFR` we can easily see that the most abundant ions\n",
    "in the spectrum are y8 (877.452 m/z), b10 (926.432), y9 (1024.522 m/z)\n",
    "and b13 (1187.544 m/z).\n",
    "\n",
    "## Getting a score\n",
    "\n",
    "We now run HyperScore to compute the similarity of the theoretical\n",
    "spectrum and the experimental spectrum and print the result"
   ],
   "id": "1e85f0ed-1f52-45b1-ad71-7f6c7b9209ca"
  },
  {
   "cell_type": "code",
   "execution_count": null,
   "metadata": {},
   "outputs": [],
   "source": [
    "hscore = HyperScore()\n",
    "fragment_mass_tolerance = 5.0\n",
    "is_tol_in_ppm = True\n",
    "result = hscore.compute(fragment_mass_tolerance, is_tol_in_ppm, spectrum_of_interest, thspec)\n",
    "result"
   ],
   "id": "f6fb64c4-8607-4733-ba62-5af7b30a1e2e"
  },
  {
   "cell_type": "markdown",
   "metadata": {},
   "source": [
    "If we didn't know ahead of time which spectrum was a match we can loop through all the spectra from our file,  \n",
    "calculate scores for all of them, and print the result:"
   ],
   "id": "d640ee67-82b6-4736-b2a2-edbef609730b"
  },
  {
   "cell_type": "code",
   "execution_count": null,
   "metadata": {},
   "outputs": [],
   "source": [
    "for f in e:\n",
    "    score = hscore.compute(fragment_mass_tolerance, is_tol_in_ppm, f, thspec)\n",
    "    print(f.getNativeID() + \":\" + str(score) )"
   ],
   "id": "882372e5-e10d-4652-b7f7-e834715dda97"
  }
 ],
 "nbformat": 4,
 "nbformat_minor": 5,
 "metadata": {}
}
