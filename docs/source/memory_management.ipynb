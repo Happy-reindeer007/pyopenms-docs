{
 "cells": [
  {
   "cell_type": "markdown",
   "metadata": {},
   "source": [
    "# Memory management\n",
    "\n",
    "On order to save memory, we can avoid loading the whole file into memory\n",
    "and use the OnDiscMSExperiment for reading data."
   ],
   "id": "94dd9879-391a-4d86-ab67-6589512545a6"
  },
  {
   "cell_type": "code",
   "execution_count": null,
   "metadata": {
    "linenos": ""
   },
   "outputs": [],
   "source": [
    "from pyopenms import *\n",
    "od_exp = OnDiscMSExperiment()\n",
    "od_exp.openFile(\"test.mzML\")\n",
    "\n",
    "e = MSExperiment()\n",
    "for k in range(od_exp.getNrSpectra()):\n",
    "  s = od_exp.getSpectrum(k)\n",
    "  if s.getNativeID().startswith(\"scan=\"):\n",
    "    e.addSpectrum(s)\n",
    "\n",
    "MzMLFile().store(\"test_filtered.mzML\", e)"
   ],
   "id": "6690abbe-3921-43e7-9977-153b2871a862"
  },
  {
   "cell_type": "markdown",
   "metadata": {},
   "source": [
    "Note that using the approach the output data `e` is still completely in\n",
    "memory and may end up using a substantial amount of memory. We can avoid\n",
    "that by using"
   ],
   "id": "7bafac88-5de8-4d60-91b9-11e65d2c54fa"
  },
  {
   "cell_type": "code",
   "execution_count": null,
   "metadata": {
    "linenos": ""
   },
   "outputs": [],
   "source": [
    "od_exp = OnDiscMSExperiment()\n",
    "od_exp.openFile(\"test.mzML\")\n",
    "\n",
    "consumer = PlainMSDataWritingConsumer(\"test_filtered.mzML\")\n",
    "\n",
    "e = MSExperiment()\n",
    "for k in range(od_exp.getNrSpectra()):\n",
    "  s = od_exp.getSpectrum(k)\n",
    "  if s.getNativeID().startswith(\"scan=\"):\n",
    "    consumer.consumeSpectrum(s)\n",
    "\n",
    "del consumer"
   ],
   "id": "c0a28f62-fa77-4193-905d-c55c715b2272"
  },
  {
   "cell_type": "markdown",
   "metadata": {},
   "source": [
    "Make sure you do not forget `del consumer` since otherwise the final\n",
    "part of the mzML may not get written to disk (and the consumer is still\n",
    "waiting for new data)."
   ],
   "id": "e725fd58-3903-4231-aba4-d064e3bcbd11"
  }
 ],
 "nbformat": 4,
 "nbformat_minor": 5,
 "metadata": {}
}
