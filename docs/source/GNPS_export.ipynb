{
 "cells": [
  {
   "cell_type": "markdown",
   "metadata": {},
   "source": [
    "# Export files for GNPS\n",
    "\n",
    "With pyOpenMS you can automatically generate all files needed for GNPS\n",
    "Feature-Based Molecular Networking (FBMN) and Ion Identity Molecular\n",
    "Networking (IIMN).\n",
    "\n",
    "Pre-requisites are your input mzML files and a `ConsensusMap`, generated\n",
    "by an [untargeted metabolomics pre-processing\n",
    "workflow](metabolomics_preprocessing.ipynb). Ensure that MS2 data has\n",
    "been mapped to the `FeatureMap` objects with `IDMapper`. For IIMN adduct\n",
    "detection must have been performed on the `FeatureMap` objects during\n",
    "pre-processing with `MetaboliteFeatureDeconvolution`.\n",
    "\n",
    "First, download two example `mzML` files that have been map aligned\n",
    "based on a feature map alignment."
   ],
   "id": "ce1433d0-314c-44be-b0f4-bed623826bc2"
  },
  {
   "cell_type": "code",
   "execution_count": null,
   "metadata": {},
   "outputs": [],
   "source": [
    "from urllib.request import urlretrieve\n",
    "gh = \"https://raw.githubusercontent.com/OpenMS/pyopenms-docs/master\"\n",
    "urlretrieve (gh + \"/src/data/Metabolomics_1_aligned.mzML\", \"Metabolomics_1_aligned.mzML\")\n",
    "urlretrieve (gh + \"/src/data/Metabolomics_2_aligned.mzML\", \"Metabolomics_2_aligned.mzML\")\n",
    "urlretrieve (gh + \"/src/data/UntargetedMetabolomics.consensusXML\", \"UntargetedMetabolomics.consensusXML\")"
   ],
   "id": "cd799960-d85a-46fe-8333-36cc3fda0cb4"
  },
  {
   "cell_type": "code",
   "execution_count": null,
   "metadata": {},
   "outputs": [],
   "source": [
    "from pyopenms import *\n",
    "\n",
    "mzML_files = [\"Metabolomics_1_aligned.mzML\", \"Metabolomics_2_aligned.mzML\"]\n",
    "\n",
    "consensusXML_file = \"UntargetedMetabolomics.consensusXML\""
   ],
   "id": "e0725d92-7395-4690-b0f9-7aa3fc033f4c"
  },
  {
   "cell_type": "markdown",
   "metadata": {},
   "source": [
    "Since GNPS only works with features that contain MS2 fragmentation\n",
    "spectra, the first step is to filter out features from your\n",
    "`ConsensusMap` that have no MS2 spectra annotated."
   ],
   "id": "a4bcc4ce-5759-4770-aab7-c9badc3ae709"
  },
  {
   "cell_type": "code",
   "execution_count": null,
   "metadata": {},
   "outputs": [],
   "source": [
    "consensus_map = ConsensusMap()\n",
    "ConsensusXMLFile().load(consensusXML_file, consensus_map)\n",
    "filtered_map = ConsensusMap(consensus_map)\n",
    "filtered_map.clear(False)\n",
    "for feature in consensus_map:\n",
    "    if feature.getPeptideIdentifications():\n",
    "        filtered_map.push_back(feature)\n",
    "\n",
    "consensusXML_file = \"filtered.consensusXML\"\n",
    "ConsensusXMLFile().store(consensusXML_file, filtered_map)"
   ],
   "id": "acf673c1-3d7e-4c12-bade-1fc3f68dbc3c"
  },
  {
   "cell_type": "markdown",
   "metadata": {},
   "source": [
    "Now you can export your all files for FBMN and IIMN."
   ],
   "id": "00c14278-a3a9-4110-ad6d-8ba6617cf158"
  },
  {
   "cell_type": "code",
   "execution_count": null,
   "metadata": {},
   "outputs": [],
   "source": [
    "# for FFBM\n",
    "GNPSMGFFile().store(String(consensusXML_file), [file.encode() for file in mzML_files], String(\"MS2data.mgf\")) \n",
    "GNPSQuantificationFile().store(consensus_map, \"FeatureQuantificationTable.txt\")\n",
    "GNPSMetaValueFile().store(consensus_map, \"MetaValueTable.tsv\")\n",
    "\n",
    "# for IIMN\n",
    "IonIdentityMolecularNetworking().annotateConsensusMap(consensus_map)\n",
    "IonIdentityMolecularNetworking().writeSupplementaryPairTable(consensus_map, \"SupplementaryPairTable.csv\")"
   ],
   "id": "38527418-a476-4a33-9ef4-e5bcd99ff37f"
  }
 ],
 "nbformat": 4,
 "nbformat_minor": 5,
 "metadata": {}
}
